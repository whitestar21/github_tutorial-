{
  "nbformat": 4,
  "nbformat_minor": 0,
  "metadata": {
    "colab": {
      "name": "CS DA 2021 - Prework notebook.ipynb",
      "provenance": [],
      "include_colab_link": true
    },
    "kernelspec": {
      "display_name": "Python 3",
      "language": "python",
      "name": "python3"
    },
    "language_info": {
      "codemirror_mode": {
        "name": "ipython",
        "version": 3
      },
      "file_extension": ".py",
      "mimetype": "text/x-python",
      "name": "python",
      "nbconvert_exporter": "python",
      "pygments_lexer": "ipython3",
      "version": "3.9.1"
    }
  },
  "cells": [
    {
      "cell_type": "markdown",
      "metadata": {
        "id": "view-in-github",
        "colab_type": "text"
      },
      "source": [
        "<a href=\"https://colab.research.google.com/github/whitestar21/github_tutorial-/blob/main/CS_DA_2021_Prework_notebook.ipynb\" target=\"_parent\"><img src=\"https://colab.research.google.com/assets/colab-badge.svg\" alt=\"Open In Colab\"/></a>"
      ]
    },
    {
      "cell_type": "markdown",
      "metadata": {
        "id": "W442mLXjYgr2"
      },
      "source": [
        "# <font color='#F9007A'> GETTING STARTED </font>\n",
        "\n",
        "\n",
        "Welcome to Career Semester Data Analytcs 2021 remote class! We look forward to kicking off the class with you but in the mean time please run through this notebook to familiarise yourself with Jupyter notebooks and also some python coding basics.\n",
        "\n"
      ]
    },
    {
      "cell_type": "markdown",
      "metadata": {
        "id": "t-c7W_WmYgr4"
      },
      "source": [
        "### Some navigating in Jupyter Notebooks"
      ]
    },
    {
      "cell_type": "code",
      "metadata": {
        "id": "z7El_-16Ygr6"
      },
      "source": [
        "# to run a cell hit Control+Enter\n",
        "# to run a cell and move to the next cell hit Shift+Enter\n",
        "\n",
        "print('Hello World!')\n"
      ],
      "execution_count": null,
      "outputs": []
    },
    {
      "cell_type": "markdown",
      "metadata": {
        "id": "iPJeRaygYgsD"
      },
      "source": [
        "### Markdown"
      ]
    },
    {
      "cell_type": "markdown",
      "metadata": {
        "id": "-chiaDAkYgsE"
      },
      "source": [
        "This is a markdown cell. Double click to see the code."
      ]
    },
    {
      "cell_type": "markdown",
      "metadata": {
        "id": "Cy0LWF-wYgsG"
      },
      "source": [
        "To change the cell type (and other options) you need to be in \"command mode\". You are in command mode when the colour on the left of your cell is blue and you are in \"edit mode\" when the colour is green.\n",
        "\n",
        "To get into command mode you can hit esc, click the pencil icon on the top right or click next to the line colour on the left of the cell.\n",
        "\n",
        "Try it in the empty cell below.\n",
        "\n",
        "To get back to edit mode from command mode hit enter.\n",
        "\n",
        "To change a cell to Markdown. Enter command mode and select markdown from the dropdown menu above or simply hit m.\n",
        "\n",
        "To view command mode shortcuts - hit h while in command mode\n"
      ]
    },
    {
      "cell_type": "code",
      "metadata": {
        "id": "ceXPRHOVYgsH"
      },
      "source": [
        ""
      ],
      "execution_count": null,
      "outputs": []
    },
    {
      "cell_type": "markdown",
      "metadata": {
        "id": "CFBzfazaYgsL"
      },
      "source": [
        "\n",
        "Once a cell is set to output markdown, you can write text and it will turn into beautiful html. Here is a great markdown [cheatsheet](https://github.com/adam-p/markdown-here/wiki/Markdown-Cheatsheet#code) to keep handy!\n",
        "\n",
        "**This in bold** \n",
        "(double click this cell to see how we generate these effects - to transform to markdown simply run cell as normal\n",
        "\n",
        "*This in italics*\n",
        "\n",
        "### Introduction to Jupyter Header\n",
        "\n",
        "- Element 1\n",
        "  - Element 1.1\n",
        "  \n",
        "  \n",
        "<hr>\n",
        "\n",
        "![kitty](https://c24e867c169a525707e0-bfbd62e61283d807ee2359a795242ecb.ssl.cf3.rackcdn.com/imagenes/gato/etapas-clave-de-su-vida/gatitos/nuevo-gatito-en-casa/gatito-tumbado-lamiendo-sus-patitas.jpg)"
      ]
    },
    {
      "cell_type": "markdown",
      "metadata": {
        "id": "KHf7Ig96YgsM"
      },
      "source": [
        "<hr>\n",
        "\n",
        "### Code cells"
      ]
    },
    {
      "cell_type": "code",
      "metadata": {
        "id": "JUPLWZEjYgsN"
      },
      "source": [
        "# This is a comment, python ignores these lines. Its useful to add small explanations to your code or notes to yourself \n",
        "\n",
        "#Python scripts are executed linearly, line after line, top to bottom\n",
        "\n",
        "print('Hello World!')\n",
        "\n",
        "print(\"Second line to print!\")\n",
        "\n",
        "# in python, text (strings), can be defined either with single quotes ' or double quotes \"\n",
        "print('Printing our third line')\n"
      ],
      "execution_count": null,
      "outputs": []
    },
    {
      "cell_type": "markdown",
      "metadata": {
        "id": "iHOX9sXIYgsS"
      },
      "source": [
        "### A few more helpful tips\n",
        "\n",
        "When in command mode here are a few handy shortcuts. Hitting:\n",
        "- m changes cell to markdown\n",
        "- a inserts cell above\n",
        "- b inserts cell below\n",
        "- dd deletes a cell.\n",
        "- z undoes delete cell\n"
      ]
    },
    {
      "cell_type": "markdown",
      "metadata": {
        "id": "dx9ZxNT2YgsT"
      },
      "source": [
        "<hr>"
      ]
    },
    {
      "cell_type": "markdown",
      "metadata": {
        "id": "kpJNb40MYgsU"
      },
      "source": [
        "\n",
        "# <font color='#F9007A'> INTRO TO PYTHON </font>\n",
        "\n",
        "<font color='#F9007A'> 1. Variables in Python </font>\n",
        "\n",
        "<font color='#F9007A'> 2. Data types </font>\n",
        "\n",
        "<font color='#F9007A'> 3. Data Structures </font>\n",
        "\n",
        "<font color='#F9007A'> 4. Control Flow types </font>\n",
        "\n",
        "<font color='#F9007A'> 5. Functions </font>\n",
        "\n",
        "\n",
        "\n",
        "<br>\n",
        "\n",
        "**Be an active rather than a passive learner:**\n",
        "\n",
        "Anybody can hit shift enter and whiz through this notebook. \n",
        "\n",
        "As you go through the notebook. Stop. Think. Can you think of a situation you might use that code.\n",
        "\n",
        "Change inputs, change names ... see what happens. Be playful and inquisitive. You wont break anything. You can always download it again :)\n",
        "\n",
        "If something doesnt make sense. Google for an explanation. \n",
        "\n",
        "If you arent sure what a piece of code does - try changing it and see. \n",
        "\n",
        "Or you can always use the inbuilt help function as in the cell below\n"
      ]
    },
    {
      "cell_type": "code",
      "metadata": {
        "id": "oWp9XyLpYgsV"
      },
      "source": [
        "print?"
      ],
      "execution_count": null,
      "outputs": []
    },
    {
      "cell_type": "markdown",
      "metadata": {
        "id": "KKgdItqCYgsa"
      },
      "source": [
        "**I recommend doing this notebook in a couple of sessions over a day or two to just to let the information sink in.**\n",
        "\n",
        "This first notebook has a lot of the really basic need to knows.\n",
        "The use of code in the examples below is to show you how each function works. It might seem a little bit abstract here. But once we nail down the basics we can start applying them to real data - and their utility will come shining through.\n",
        "\n",
        "So for now - let's smash the basic and practice some python!\n"
      ]
    },
    {
      "cell_type": "markdown",
      "metadata": {
        "id": "LMwgrCYDYgsb"
      },
      "source": [
        "<br>\n",
        "<br>\n",
        "\n",
        "<hr>\n",
        "\n"
      ]
    },
    {
      "cell_type": "markdown",
      "metadata": {
        "id": "7S3tHlEUYgsc"
      },
      "source": [
        "# <font color='#F9007A'> 1. VARIABLES IN PYTHON </font>\n",
        "In Python, variable names are like stickers put on objects. Every sticker has a unique name written on it, and it can only be on one object at a time. If desired, more than one sticker can be put on the same object."
      ]
    },
    {
      "cell_type": "code",
      "metadata": {
        "id": "r-yKJGhDYgsd"
      },
      "source": [
        "# assign the 'animal' sticker to the cat string\n",
        "animal = 'cat'\n",
        "\n",
        "# also assign the 'pet' sticker to the underlying cat string\n",
        "pet = animal\n",
        "\n",
        "print(f'Animal is {animal}, pet is {pet}') # we'll get to the f annotation in a few seconds :) \n",
        "#But to see what the f does, delete it and try run the code again\n",
        "\n",
        "# move the animal sticker to giraffe\n",
        "animal = 'giraffe'\n",
        "\n",
        "print(f'Animal is now {animal}, pet is still {pet}')"
      ],
      "execution_count": null,
      "outputs": []
    },
    {
      "cell_type": "code",
      "metadata": {
        "id": "PKD3zTfLYgsh"
      },
      "source": [
        "# How would you get pet to change as well? Try it out below!\n",
        "\n",
        "\n"
      ],
      "execution_count": null,
      "outputs": []
    },
    {
      "cell_type": "markdown",
      "metadata": {
        "id": "WWfF-GXSYgsl"
      },
      "source": [
        "# END OF VARIABLE TYPES \n",
        "(They arent all this quick ;) )\n",
        "\n",
        "![variables](https://starecat.com/content/wp-content/uploads/actual-programming-vs-debating-30-minutes-on-how-to-name-a-variable-drake-meme.jpg)\n",
        "\n",
        "<hr>\n",
        "<br>\n",
        "<br>\n",
        "<br>\n"
      ]
    },
    {
      "cell_type": "markdown",
      "metadata": {
        "id": "YFhu4tmjYgsm"
      },
      "source": [
        "# <font color='#F9007A'> 2. DATA TYPES </font>\n",
        "Python has many types of data that are a part of the core language, they \n",
        "are called primitives.\n",
        "\n",
        "The most common primitives are \n",
        "1. strings, \n",
        "1. numbers (integers and decimals), and \n",
        "1. booleans"
      ]
    },
    {
      "cell_type": "markdown",
      "metadata": {
        "id": "afIX0eK-Ygsn"
      },
      "source": [
        "### <font color='#F9007A'> 1. Strings </font>"
      ]
    },
    {
      "cell_type": "code",
      "metadata": {
        "id": "lniHvi7mYgso"
      },
      "source": [
        "print(\"We use strings to represent text:\")\n",
        "\n",
        "var_str = 'Hello'\n",
        "var_str2 = \"World!\"\n",
        "print(var_str)\n",
        "print(var_str2)\n",
        "print(var_str, var_str2)\n",
        "\n",
        "print(type(var_str2))"
      ],
      "execution_count": null,
      "outputs": []
    },
    {
      "cell_type": "code",
      "metadata": {
        "id": "YtWfZ6WgYgst"
      },
      "source": [
        "#If you want to better understand what a function does use the inbuilt help feature\n",
        "#by either typing ?function_name or using the help menu item (or good old google)\n",
        "\n",
        "?print"
      ],
      "execution_count": null,
      "outputs": []
    },
    {
      "cell_type": "markdown",
      "metadata": {
        "id": "5i4KR94aYgsy"
      },
      "source": [
        "Strings can be joined to create longer strings. There are many ways to join strings\n",
        "(this is called string interpolation).\n",
        "\n",
        "We can use the simbol `+` to \"sum\" (concatenate) strings"
      ]
    },
    {
      "cell_type": "code",
      "metadata": {
        "id": "JQeulU6EYgsz"
      },
      "source": [
        "name = \"Connor\"\n",
        "surname = \"Lawless\" \n",
        "\n",
        "var_str_joined = name + \" \" + surname #remove the space between the \"\" and see what happens\n",
        "print(var_str_joined)"
      ],
      "execution_count": null,
      "outputs": []
    },
    {
      "cell_type": "code",
      "metadata": {
        "id": "Nn33MOLUYgs3"
      },
      "source": [
        "#We can also \"multiply\" strings\n",
        "n = \"hello\"\n",
        "print(n * 10)"
      ],
      "execution_count": null,
      "outputs": []
    },
    {
      "cell_type": "markdown",
      "metadata": {
        "id": "yJdZb4VXYgs7"
      },
      "source": [
        "We can also use the method `format()` that allows us to insert strings inside other strings\n"
      ]
    },
    {
      "cell_type": "code",
      "metadata": {
        "id": "r7OYN6c3Ygs8"
      },
      "source": [
        "name = \"Connor\"\n",
        "city = \"Toronto\"\n",
        "\n",
        "presentation = \"Hi, I'm {}, and I'm from {}\"\n",
        "\n",
        "print(presentation.format(name, city))\n"
      ],
      "execution_count": null,
      "outputs": []
    },
    {
      "cell_type": "markdown",
      "metadata": {
        "id": "L7sh6xGYYgtA"
      },
      "source": [
        "Try make variables of your own name and city in the below cell\n",
        "and use the presentation command above to print your name and city in a sentance."
      ]
    },
    {
      "cell_type": "code",
      "metadata": {
        "id": "_NybICwDYgtA"
      },
      "source": [
        ""
      ],
      "execution_count": null,
      "outputs": []
    },
    {
      "cell_type": "markdown",
      "metadata": {
        "id": "0N0G2eSWYgtE"
      },
      "source": [
        "Python is a language with \"batteries included\" this means it includes a lot of \n",
        "functionalities when we install python.\n",
        "\n",
        "Those functionalities are usually grouped in packages (or modules) and we can \n",
        "\"load\" them and use them with the keyword `import`\n",
        "\n",
        "For example, if we want to use the `math` module, that has many mathematical functions,\n",
        "we can access it if we type `import math`"
      ]
    },
    {
      "cell_type": "code",
      "metadata": {
        "id": "AFXI101BYgtF"
      },
      "source": [
        "import math"
      ],
      "execution_count": null,
      "outputs": []
    },
    {
      "cell_type": "code",
      "metadata": {
        "id": "OmOgKgM7YgtI"
      },
      "source": [
        "# Now we can access all the functionalities in the math module\n",
        "print(math.pi)"
      ],
      "execution_count": null,
      "outputs": []
    },
    {
      "cell_type": "markdown",
      "metadata": {
        "id": "1D-Qr0bDYgtN"
      },
      "source": [
        "When using the `format` method we can specify how do we want to format the \n",
        "variables. For example, we can round the variables."
      ]
    },
    {
      "cell_type": "code",
      "metadata": {
        "id": "-ISw_7ZXYgtP"
      },
      "source": [
        "pi_str = \"The first digits of pi are: {}\".format(math.pi)\n",
        "print(pi_str)"
      ],
      "execution_count": null,
      "outputs": []
    },
    {
      "cell_type": "code",
      "metadata": {
        "id": "kkO3XTQcYgtT"
      },
      "source": [
        "# We can print the string rounded to 2 digits\n",
        "pi_str = \"The first digits of pi are: {:.3}\".format(math.pi)\n",
        "print(pi_str)"
      ],
      "execution_count": null,
      "outputs": []
    },
    {
      "cell_type": "code",
      "metadata": {
        "id": "XUwLRt8AYgta"
      },
      "source": [
        "#Another (shorter) method to do string interpolation is referencing the variable \n",
        "#directly in the string by using an f-string\n",
        "\n",
        "presentation2 = f\"Hi, I'm {name}, and I'm from {city}\"\n",
        "\n",
        "print(presentation2)"
      ],
      "execution_count": null,
      "outputs": []
    },
    {
      "cell_type": "code",
      "metadata": {
        "id": "fhmQwnB7Ygtd"
      },
      "source": [
        "#Checking we understand object naming\n",
        "\n",
        "#Why does the below code give us that output\n",
        "name = \"John\"\n",
        "print(presentation2)"
      ],
      "execution_count": null,
      "outputs": []
    },
    {
      "cell_type": "markdown",
      "metadata": {
        "id": "6DltiNPyYgtg"
      },
      "source": [
        "### More operations with strings"
      ]
    },
    {
      "cell_type": "code",
      "metadata": {
        "id": "RDjZ-RjRYgtg"
      },
      "source": [
        "title = \"introduction to PYTHON\"\n",
        "\n",
        "print(\"We can convert a string to uppercase with upper()\")\n",
        "print(title.upper())\n",
        "\n",
        "print(\"We can convert a string to lowercase with lower()\")\n",
        "print(title.lower())\n",
        "\n",
        "print(\"We can convert the first letter to upper case with capitalize()\")\n",
        "print(title.capitalize())"
      ],
      "execution_count": null,
      "outputs": []
    },
    {
      "cell_type": "code",
      "metadata": {
        "id": "FmByXwD8Ygtj"
      },
      "source": [
        "name_with_commas = \",Connor,\"\n",
        "\n",
        "print(\"We can use `strip()` to remove characters from the beginning and the end of a string\")\n",
        "print(name_with_commas.strip(\",\"))"
      ],
      "execution_count": null,
      "outputs": []
    },
    {
      "cell_type": "code",
      "metadata": {
        "id": "DMSxFFyMYgtn"
      },
      "source": [
        "print(\"We use `replace()` to replace parts of a string for something else\")\n",
        "print(name_with_commas.replace(\"nor\", \"man\"))\n",
        "\n",
        "# think of an example where you might need to use replace"
      ],
      "execution_count": null,
      "outputs": []
    },
    {
      "cell_type": "code",
      "metadata": {
        "id": "raYuzV7TYgtp"
      },
      "source": [
        "print(\"We can chain methods together\")\n",
        "print(\n",
        "      name_with_commas\n",
        "      .strip(\",\")\n",
        "      .replace(\"nor\", \"man\")\n",
        "      .upper())\n"
      ],
      "execution_count": null,
      "outputs": []
    },
    {
      "cell_type": "code",
      "metadata": {
        "id": "KXnF5VQ8Ygts"
      },
      "source": [
        "# We can split a string in multiple strings by using `split()`\n",
        "\n",
        "email = \"connor.lawless@ixperience.co\"\n",
        "email_bits = email.split(\"@\")\n",
        "print(email_bits)\n",
        "\n",
        "# think of a situation where you might need to use split."
      ],
      "execution_count": null,
      "outputs": []
    },
    {
      "cell_type": "markdown",
      "metadata": {
        "id": "j5FqWWF1Ygtv"
      },
      "source": [
        "### <font color='#F9007A'> Quick knowledge check! </font>\n",
        "1. Your friend just sent you his part of an essay (see \"essay\" variable below) but you realized it's a mess! Write some code to correct the contraction (i.e. doesn't -> does not), properly capitalize the sentence, and take out all of the times he says totally!"
      ]
    },
    {
      "cell_type": "code",
      "metadata": {
        "id": "JqMH70dSYgtv"
      },
      "source": [
        "essay = \"sometimes the world can be totally messed up but it totally doesn't have to be!\"\n",
        "\n",
        "#Put your code here!"
      ],
      "execution_count": null,
      "outputs": []
    },
    {
      "cell_type": "markdown",
      "metadata": {
        "id": "NUTBW-l5Ygtx"
      },
      "source": [
        "2. You just got the results back from your student body election (obviously analyzed through Python), print out a nice final statement summarizing the results (whatever style floats your boat - play around and have fun with it!)"
      ]
    },
    {
      "cell_type": "code",
      "metadata": {
        "id": "1Um24XF8Ygty"
      },
      "source": [
        "winner = \"Pedro\"\n",
        "loser = \"Summer\"\n",
        "pedro_vote_percentage = 60.3594594594\n",
        "\n",
        "#Put your code here!"
      ],
      "execution_count": null,
      "outputs": []
    },
    {
      "cell_type": "markdown",
      "metadata": {
        "id": "H8SJaJV9Ygt0"
      },
      "source": [
        "<hr>\n",
        "<br>\n",
        "\n",
        "### <font color='#F9007A'> 2. Numbers </font>"
      ]
    },
    {
      "cell_type": "code",
      "metadata": {
        "id": "ihG9X1K5Ygt1"
      },
      "source": [
        "print(\"There are two basic numeric primitives in python, int(integers) and float(decimals)\")\n",
        "\n",
        "integer = 23\n",
        "print(type(integer))\n",
        "\n",
        "#%%\n",
        "decimal = 23.1\n",
        "print(type(decimal))\n",
        "\n",
        "#%%\n",
        "print(type(23.))"
      ],
      "execution_count": null,
      "outputs": []
    },
    {
      "cell_type": "code",
      "metadata": {
        "id": "qXCPQIHyYgt4"
      },
      "source": [
        "print(\"We can convert numbers to strings easily\")\n",
        "print(type(str(decimal)))\n",
        "print(\"two + \" + str(decimal))"
      ],
      "execution_count": null,
      "outputs": []
    },
    {
      "cell_type": "code",
      "metadata": {
        "id": "gXjxflkaYgt5"
      },
      "source": [
        "print(\"We can also use numbers in string interpolation\")\n",
        "name = \"Connor\"\n",
        "city = \"Toronto\"\n",
        "count = 145000\n",
        "print(f\"Hi, I'm {name}, I'm from {city} and I've been in lockdown for {count} days\")"
      ],
      "execution_count": null,
      "outputs": []
    },
    {
      "cell_type": "code",
      "metadata": {
        "id": "Ut8M9xMxYgt8"
      },
      "source": [
        "print(\"Similarly, we can convert strings to numbers\")\n",
        "number_string = \"24\" # remember it is a string because it is captured with \"\"\n",
        "print(int(number_string) + 5)\n",
        "print(float(number_string) + 5)"
      ],
      "execution_count": null,
      "outputs": []
    },
    {
      "cell_type": "code",
      "metadata": {
        "id": "bnZP0fpJYgt-"
      },
      "source": [
        "print(\"We have to make sure the numbers are valid!\")\n",
        "invalid_number_string = \"24.5\"\n",
        "print(int(invalid_number_string))"
      ],
      "execution_count": null,
      "outputs": []
    },
    {
      "cell_type": "code",
      "metadata": {
        "id": "TEFiJ5NtYguA"
      },
      "source": [
        "#Try changing the above so that it is valid\n",
        "print(float(invalid_number_string))"
      ],
      "execution_count": null,
      "outputs": []
    },
    {
      "cell_type": "markdown",
      "metadata": {
        "id": "Lzz43zezYguD"
      },
      "source": [
        "### Operations with numbers\n",
        "\n",
        "We can use the basic arithmetic symbols to perform operations with numbers\n"
      ]
    },
    {
      "cell_type": "code",
      "metadata": {
        "id": "uojJJ39OYguE"
      },
      "source": [
        "#sum\n",
        "print(\"2+2=\",2+2)\n",
        "\n",
        "#substraction\n",
        "print(\"4-9=\",4-9)\n",
        "\n",
        "#multiplication\n",
        "print(\"3*2=\",3*2)\n",
        "\n",
        "#division\n",
        "print(\"7/2=\",7/2)"
      ],
      "execution_count": null,
      "outputs": []
    },
    {
      "cell_type": "code",
      "metadata": {
        "id": "eEv9h4XmYguF"
      },
      "source": [
        "#There are other useful operations too\n",
        "\n",
        "a = 7\n",
        "b = 2\n",
        "# floor division, do a division and remove the remainder --> //\n",
        "print(f\"{a}//{b}=\", a//b)\n",
        "\n",
        "# modulo, do a division and return the remainder --> %\n",
        "print(f\"{a}%{b}=\", a%b)\n",
        "\n",
        "#negation, change the sign of a number\n",
        "print(f\"negation of {a}=\", -a)\n",
        "\n",
        "#square, cube, fourth power, etcetera\n",
        "print(f\"{a}**{b}=\",a**b)"
      ],
      "execution_count": null,
      "outputs": []
    },
    {
      "cell_type": "markdown",
      "metadata": {
        "id": "a6dsYS79YguH"
      },
      "source": [
        "### <font color='#F9007A'> Quick knowledge check! </font>\n",
        "1. Whoops, we can't seem to figure out why this code isn't working. Please fix it for us! (Bonus: Can you do it without changing how we defined x and y?)"
      ]
    },
    {
      "cell_type": "code",
      "metadata": {
        "id": "KkipxyxcYguH"
      },
      "source": [
        "x = \"24.5\"\n",
        "y = 13\n",
        "mySum = x + y\n",
        "print('X + Y:',mySum)"
      ],
      "execution_count": null,
      "outputs": []
    },
    {
      "cell_type": "markdown",
      "metadata": {
        "id": "nzOcnckWYguK"
      },
      "source": [
        "<hr>\n",
        "<br>\n",
        "\n",
        "### <font color='#F9007A'> 3. Booleans </font>\n",
        "A boolean variable is a primitive that can only be True or False\n"
      ]
    },
    {
      "cell_type": "code",
      "metadata": {
        "id": "6wsD-2efYguK"
      },
      "source": [
        "truth = True\n",
        "falsehood = False\n",
        "\n",
        "print(type(truth))"
      ],
      "execution_count": null,
      "outputs": []
    },
    {
      "cell_type": "markdown",
      "metadata": {
        "id": "-hypjfcJYguM"
      },
      "source": [
        "As an additional primitive we have `None` which is the null variable\n"
      ]
    },
    {
      "cell_type": "code",
      "metadata": {
        "id": "UAstxPcRYguM"
      },
      "source": [
        "null = None\n",
        "print(type(null))"
      ],
      "execution_count": null,
      "outputs": []
    },
    {
      "cell_type": "code",
      "metadata": {
        "id": "c60QmjELYguO"
      },
      "source": [
        "#Most variables can be converted to a boolean, usually they are converted to True\n",
        "print(bool(\"potato\"))"
      ],
      "execution_count": null,
      "outputs": []
    },
    {
      "cell_type": "code",
      "metadata": {
        "id": "DMleioExYguQ"
      },
      "source": [
        "# The null values (0, \"\", None, and empty lists and dicts) are converted to False\n",
        "\n",
        "print(bool(\"\"))\n",
        "print(bool(0))\n",
        "print(bool(null))\n",
        "print(bool([]))\n",
        "print(bool({}))"
      ],
      "execution_count": null,
      "outputs": []
    },
    {
      "cell_type": "markdown",
      "metadata": {
        "id": "H3CBk3ZJYguS"
      },
      "source": [
        "### Logic Comparisons\n",
        "\n",
        "We can compare variables, the result of a comparison is always a boolean"
      ]
    },
    {
      "cell_type": "code",
      "metadata": {
        "id": "Z_71ICQBYguS"
      },
      "source": [
        "a = 7\n",
        "b = 2\n",
        "# a greater or equal to b\n",
        "print(f\"{a} > {b}\", a > b)\n",
        "# b smaller or equal to a\n",
        "print(f\"{b}<={a}\", b <= a)\n",
        "# b equals 2\n",
        "print(f\"{b}==2\", b == 2)\n",
        "# a is different than 23\n",
        "print(f\"{a}!=23\", a != 23)"
      ],
      "execution_count": null,
      "outputs": []
    },
    {
      "cell_type": "markdown",
      "metadata": {
        "id": "QQPm41dyYguU"
      },
      "source": [
        "We can evaluate the opposite of a logic comparisons with `not`"
      ]
    },
    {
      "cell_type": "code",
      "metadata": {
        "id": "kaogM24qYguU"
      },
      "source": [
        "print(f\"not {a}!=23 --> \" , not a != 23)"
      ],
      "execution_count": null,
      "outputs": []
    },
    {
      "cell_type": "markdown",
      "metadata": {
        "id": "rMDRItvBYguX"
      },
      "source": [
        "We can evaluate that multiple conditions are true with `and`"
      ]
    },
    {
      "cell_type": "code",
      "metadata": {
        "id": "Th0pPXniYguY"
      },
      "source": [
        "print(f\"{a}!=23 and {a}<{b} --> \", a != 23 and a < b)"
      ],
      "execution_count": null,
      "outputs": []
    },
    {
      "cell_type": "markdown",
      "metadata": {
        "id": "rV_lvAKTYgua"
      },
      "source": [
        "We can evaluate that any condition is true with `or`\n"
      ]
    },
    {
      "cell_type": "code",
      "metadata": {
        "id": "tpkkFosIYgua"
      },
      "source": [
        "print(f\"{a}!=23 or {b}<{a} --> \", a != 23 or a < b)"
      ],
      "execution_count": null,
      "outputs": []
    },
    {
      "cell_type": "markdown",
      "metadata": {
        "id": "EvVCdLIyYguc"
      },
      "source": [
        "When we want to check if something is True or False, we dont use `==`, we use `is`"
      ]
    },
    {
      "cell_type": "code",
      "metadata": {
        "id": "5X2nErr0Yguc"
      },
      "source": [
        "print(\"truth is True=\", truth is True)\n"
      ],
      "execution_count": null,
      "outputs": []
    },
    {
      "cell_type": "markdown",
      "metadata": {
        "id": "NRQeTgmVYgug"
      },
      "source": [
        "### <font color='#F9007A'> Quick knowledge check! </font>\n",
        "1. What should the following code evaluate to? Try figuring it out by hand and then run the code to find out!"
      ]
    },
    {
      "cell_type": "code",
      "metadata": {
        "id": "VRDB7F4_Ygug"
      },
      "source": [
        "statement = not(((7 > 3) and (bool(\"\"))) or (('a'!='b') or (1 <= 0)))\n",
        "\n",
        "print('The statement is', statement)"
      ],
      "execution_count": null,
      "outputs": []
    },
    {
      "cell_type": "markdown",
      "metadata": {
        "id": "wBcCqTq2Yguj"
      },
      "source": [
        "# BOOM THE END OF DATA TYPES\n",
        "\n",
        "![dt](https://culshoefer.gitbooks.io/programming-is-fun-with-python-and-pygame/content/img/boolean-to-integer.jpg)\n",
        "\n"
      ]
    },
    {
      "cell_type": "markdown",
      "metadata": {
        "id": "C2NmbI6kYguj"
      },
      "source": [
        "<hr>\n",
        "<br>\n",
        "<br>\n",
        "<br>\n",
        "<br>"
      ]
    },
    {
      "cell_type": "markdown",
      "metadata": {
        "id": "dzsFAupkYguj"
      },
      "source": [
        "# <font color='#F9007A'> 3. DATA STRUCTURES </font>\n",
        "\n",
        "Data structures are those objects we use to store information (data)\n",
        "There are many different types, here we are going to see the basics of\n",
        "1. Lists \n",
        "2. Tuples\n",
        "3. Dictionaries\n"
      ]
    },
    {
      "cell_type": "markdown",
      "metadata": {
        "id": "QEbNcPkCYguk"
      },
      "source": [
        "### <font color='#F9007A'> 1. Lists </font>\n",
        "\n",
        "Lists of one of the fundamental data structures in Python, and can be described generally as an ordered collection (list) of objects. At their most basic level, lists have a length (len(list)), and each element in the list can be accessed via its unique integer index.\n",
        "\n",
        "Note that in Python, all data structures are zero-indexed, meaning that the first occuring entry is assigned an index of 0 instead of 1."
      ]
    },
    {
      "cell_type": "code",
      "metadata": {
        "id": "FXcsttLoYguk"
      },
      "source": [
        "fruits = [\"orange\", \"apple\", \"pear\", \"strawberry\", \"pineapple\"]\n",
        "\n",
        "print(fruits)\n",
        "\n",
        "print(type(fruits))"
      ],
      "execution_count": null,
      "outputs": []
    },
    {
      "cell_type": "markdown",
      "metadata": {
        "id": "yVsEAXQYYgum"
      },
      "source": [
        "We access elements in a list with brackets []\n",
        " The index (position) for python lists starts at 0, this means we access the first\n",
        " element by [0]"
      ]
    },
    {
      "cell_type": "code",
      "metadata": {
        "id": "O_W7oFhHYgum"
      },
      "source": [
        "first_fruit = fruits[0]\n",
        "print(first_fruit)"
      ],
      "execution_count": null,
      "outputs": []
    },
    {
      "cell_type": "code",
      "metadata": {
        "id": "hmmhGrqIYgup"
      },
      "source": [
        "# We can access a range of elements by doing [start:end-1:order]\n",
        "print(fruits[:2])"
      ],
      "execution_count": null,
      "outputs": []
    },
    {
      "cell_type": "code",
      "metadata": {
        "id": "PrNAI4R6Ygur"
      },
      "source": [
        "# get the elements after the second one\n",
        "print(fruits[2:])"
      ],
      "execution_count": null,
      "outputs": []
    },
    {
      "cell_type": "code",
      "metadata": {
        "id": "XBrWyoZYYguu"
      },
      "source": [
        "\"\"\"We can select ranges starting  from the last one by using negative numbers\n",
        "For example, we can get the last 2 elements by doing:\n",
        "\"\"\"\n",
        "print(fruits[-2:])"
      ],
      "execution_count": null,
      "outputs": []
    },
    {
      "cell_type": "code",
      "metadata": {
        "id": "hndpSxDVYguw"
      },
      "source": [
        "# We can skip elements by using [::n], for example, if we just want to select the odd elements:\n",
        "print(fruits[::2])"
      ],
      "execution_count": null,
      "outputs": []
    },
    {
      "cell_type": "code",
      "metadata": {
        "id": "RbIDdz1pYguy"
      },
      "source": [
        "# if we use a negative number  for the order we will get the list reversed\n",
        "print(fruits[::-1])"
      ],
      "execution_count": null,
      "outputs": []
    },
    {
      "cell_type": "code",
      "metadata": {
        "id": "99ISczFhYgu0"
      },
      "source": [
        "# We can see the number of elements in a list with `len`\n",
        "print(len(fruits))"
      ],
      "execution_count": null,
      "outputs": []
    },
    {
      "cell_type": "code",
      "metadata": {
        "id": "Ua_UVrvRYgu1"
      },
      "source": [
        "# We can add elements to the end of a list with `append()`.\n",
        "fruits.append(\"melon\")\n",
        "print(fruits)"
      ],
      "execution_count": null,
      "outputs": []
    },
    {
      "cell_type": "code",
      "metadata": {
        "id": "m_Vn-2V7Ygu3"
      },
      "source": [
        "fruits.append(5)\n",
        "fruits.extend([\"banana\", \"grape\"])\n",
        "print(fruits)"
      ],
      "execution_count": null,
      "outputs": []
    },
    {
      "cell_type": "code",
      "metadata": {
        "id": "wrdVm68aYgu5"
      },
      "source": [
        "# we can repeat a list multiplying it by a number\n",
        "print(fruits * 2)"
      ],
      "execution_count": null,
      "outputs": []
    },
    {
      "cell_type": "code",
      "metadata": {
        "id": "jCSGS4L_Ygu8"
      },
      "source": [
        "# We can add lists together with `+`\n",
        "cities = [\"Cape Town\", \"New York\"]\n",
        "print(fruits + cities) # Prints concatenated lists"
      ],
      "execution_count": null,
      "outputs": []
    },
    {
      "cell_type": "code",
      "metadata": {
        "id": "Usy7ehwpYgu9"
      },
      "source": [
        "# We can modify elements in a list\n",
        "\n",
        "fruits[0] = \"mango\"\n",
        "print(fruits)"
      ],
      "execution_count": null,
      "outputs": []
    },
    {
      "cell_type": "code",
      "metadata": {
        "id": "XwCNXMjfYgu-"
      },
      "source": [
        "# We can extend a list regardless of its initial size\n",
        "fruits[3:] = [\"litchi\", \"fig\", \"pommegranate\", \"watermelon\"]\n",
        "print(fruits)"
      ],
      "execution_count": null,
      "outputs": []
    },
    {
      "cell_type": "code",
      "metadata": {
        "id": "NhUEvxicYgvA"
      },
      "source": [
        "vegetables = [\"tomato\", \"lettuce\"]\n",
        "# we can check if an element exists on a list\n",
        "print(fruits)\n",
        "print(\"tomato\" in vegetables)\n",
        "\n",
        "print(\"tomato\" in fruits)"
      ],
      "execution_count": null,
      "outputs": []
    },
    {
      "cell_type": "code",
      "metadata": {
        "id": "VOZeE93YYgvC"
      },
      "source": [
        "# We can find the position of an element in a list\n",
        "\n",
        "fruits = [\"orange\", \"apple\", \"pear\", \"strawberry\"]\n",
        "\n",
        "print(fruits)\n",
        "\n",
        "print(fruits.index(\"pear\"))\n",
        "\n",
        "print(\"Position in the list for the word pear is {}\".format(fruits.index(\"pear\")))"
      ],
      "execution_count": null,
      "outputs": []
    },
    {
      "cell_type": "code",
      "metadata": {
        "id": "93QrA65aYgvF"
      },
      "source": [
        "# we can remove an element at a specific position from a list with `pop()`\n",
        "\n",
        "a = fruits.pop(2)\n",
        "print(fruits)\n",
        "print(a)"
      ],
      "execution_count": null,
      "outputs": []
    },
    {
      "cell_type": "code",
      "metadata": {
        "id": "9kddhGZOYgvG"
      },
      "source": [
        "# So combining index and pop we can remove a specific element from a list\n",
        "index_orange = fruits.index(\"orange\")\n",
        "fruits.pop(index_orange)\n",
        "print(fruits)"
      ],
      "execution_count": null,
      "outputs": []
    },
    {
      "cell_type": "code",
      "metadata": {
        "id": "KGl1K0CxYgvL"
      },
      "source": [
        "# lists can be sorted with the method `sort()`\n",
        "\n",
        "ages = [23, 33, 10,54,65,34,25]\n",
        "ages.sort()\n",
        "print(ages)"
      ],
      "execution_count": null,
      "outputs": []
    },
    {
      "cell_type": "code",
      "metadata": {
        "id": "mRErFyVuYgvN"
      },
      "source": [
        "fruits = [\"orange\", \"apple\", \"pear\", \"strawberry\"]\n",
        "\n",
        "print(fruits.sort())\n",
        "print(fruits)"
      ],
      "execution_count": null,
      "outputs": []
    },
    {
      "cell_type": "code",
      "metadata": {
        "id": "-_bV0M8wYgvP"
      },
      "source": [
        "# We can generate lists of numbers with `range()`\n",
        "range(10)\n",
        "print(list(range(10)))"
      ],
      "execution_count": null,
      "outputs": []
    },
    {
      "cell_type": "code",
      "metadata": {
        "id": "4tRJFeFiYgvQ"
      },
      "source": [
        "# strings can be considered lists of letters, and can be accessed same the way as lists\n",
        "\n",
        "name = \"Connor\"\n",
        "\n",
        "print(name[0])\n",
        "print(name[2:])"
      ],
      "execution_count": null,
      "outputs": []
    },
    {
      "cell_type": "code",
      "metadata": {
        "id": "uIejXJnxYgvS"
      },
      "source": [
        "len(name)\n"
      ],
      "execution_count": null,
      "outputs": []
    },
    {
      "cell_type": "code",
      "metadata": {
        "id": "yhjEkvEIYgvU"
      },
      "source": [
        "#We can convert lists to strings with `.join()`\n",
        "\n",
        "fruits = [\"orange\", \"apple\", \"pear\", \"strawberry\"]\n",
        "\n",
        "comma_separated_fruits = \",\".join(fruits)\n",
        "\n",
        "print(comma_separated_fruits)\n",
        "print(type(comma_separated_fruits))"
      ],
      "execution_count": null,
      "outputs": []
    },
    {
      "cell_type": "code",
      "metadata": {
        "id": "SU4wNQ1KYgve"
      },
      "source": [
        "line_separated_fruits = \"\\n\".join(fruits)\n",
        "\n",
        "print(\"Shopping list: \\n{}\".format(line_separated_fruits))"
      ],
      "execution_count": null,
      "outputs": []
    },
    {
      "cell_type": "markdown",
      "metadata": {
        "id": "qATrgpIcYgvf"
      },
      "source": [
        "### <font color='#F9007A'> Quick knowledge check! </font>\n",
        "1. Make a list with your top 5 favorite snacks"
      ]
    },
    {
      "cell_type": "code",
      "metadata": {
        "id": "_yeegxPPYgvg"
      },
      "source": [
        ""
      ],
      "execution_count": null,
      "outputs": []
    },
    {
      "cell_type": "markdown",
      "metadata": {
        "id": "zxoWmjeGYgvg"
      },
      "source": [
        "2. Print out your list in alphabetical order, and reverse alphabetical order"
      ]
    },
    {
      "cell_type": "code",
      "metadata": {
        "id": "lhCtXxnAYgvh"
      },
      "source": [
        ""
      ],
      "execution_count": null,
      "outputs": []
    },
    {
      "cell_type": "markdown",
      "metadata": {
        "id": "QJ0LOw7wYgvj"
      },
      "source": [
        "3. Write code to get the position of your least favorite element and remove it from the list"
      ]
    },
    {
      "cell_type": "code",
      "metadata": {
        "id": "ymb8IUxuYgvj"
      },
      "source": [
        ""
      ],
      "execution_count": null,
      "outputs": []
    },
    {
      "cell_type": "markdown",
      "metadata": {
        "id": "hRfWST3aYgvk"
      },
      "source": [
        "### <font color='#F9007A'> 2. Tuples </font>\n",
        "\n",
        "Tuples are like lists, but once created can't be modified\n"
      ]
    },
    {
      "cell_type": "code",
      "metadata": {
        "id": "Ph-wdyYpYgvk"
      },
      "source": [
        "musketeers = (\"Athos\", \"Porthos\", \"Aramis\")\n",
        "print(type(musketeers))\n",
        "print(musketeers)"
      ],
      "execution_count": null,
      "outputs": []
    },
    {
      "cell_type": "code",
      "metadata": {
        "id": "BLhjQ1DGYgvm"
      },
      "source": [
        "# We can access tuple elements like we do with lists\n",
        "print(musketeers[1:])"
      ],
      "execution_count": null,
      "outputs": []
    },
    {
      "cell_type": "code",
      "metadata": {
        "id": "HJweABSQYgvp"
      },
      "source": [
        "# however, we can't modify a tuple\n",
        "musketeers[3] = \"D'artagnan\""
      ],
      "execution_count": null,
      "outputs": []
    },
    {
      "cell_type": "markdown",
      "metadata": {
        "id": "D0cVE1jGYgvq"
      },
      "source": [
        "### <font color='#F9007A'> 3. Dictionaries </font>\n",
        "\n",
        "\n",
        "Dictionaries are pairs of keys associated to values. We can easily (and quickly) see a value if we know its associated key"
      ]
    },
    {
      "cell_type": "code",
      "metadata": {
        "id": "NVdEY9drYgvs"
      },
      "source": [
        "inventory = {\n",
        "        \"peaches\": 3,\n",
        "        \"strawberries\": 1,\n",
        "        \"apples\": 4\n",
        "        }\n",
        "print(type(inventory))\n",
        "print(inventory)"
      ],
      "execution_count": null,
      "outputs": []
    },
    {
      "cell_type": "code",
      "metadata": {
        "id": "XUffWeM5Ygvt"
      },
      "source": [
        "# We can see all the keys in a dictionary with `keys()`\n",
        "print(inventory.keys())"
      ],
      "execution_count": null,
      "outputs": []
    },
    {
      "cell_type": "code",
      "metadata": {
        "id": "gZCoZaFpYgvv"
      },
      "source": [
        "# the method `keys()` doesnt return a list, if we want to access the keys like a \n",
        "# list we need to convert them to a list\n",
        "\n",
        "# this will fail with a TypeError\n",
        "print(inventory.keys()[0])"
      ],
      "execution_count": null,
      "outputs": []
    },
    {
      "cell_type": "code",
      "metadata": {
        "id": "m3TgvAP-Ygvx"
      },
      "source": [
        "# this will work\n",
        "print(list(inventory.keys())[0])"
      ],
      "execution_count": null,
      "outputs": []
    },
    {
      "cell_type": "code",
      "metadata": {
        "id": "r0HegqUEYgvy"
      },
      "source": [
        "# Similarly, we can see the values in a dictionary with `values()`\n",
        "print(inventory.values())"
      ],
      "execution_count": null,
      "outputs": []
    },
    {
      "cell_type": "code",
      "metadata": {
        "id": "fh2GvMgZYgv0"
      },
      "source": [
        "# We can read the value associated with a specific key with brackets\n",
        "print(inventory[\"strawberries\"])"
      ],
      "execution_count": null,
      "outputs": []
    },
    {
      "cell_type": "code",
      "metadata": {
        "id": "N5BociesYgv1"
      },
      "source": [
        "# If the key doesnt exist it will throw an error (KeyError)\n",
        "print(inventory[\"melon\"])"
      ],
      "execution_count": null,
      "outputs": []
    },
    {
      "cell_type": "code",
      "metadata": {
        "id": "f-NzhXDmYgv5"
      },
      "source": [
        "# We can add a new key/modify an existing one to a dictionary using brackets\n",
        "\n",
        "inventory[\"peaches\"] = 1\n",
        "inventory[\"oranges\"] = 2\n",
        "print(inventory)"
      ],
      "execution_count": null,
      "outputs": []
    },
    {
      "cell_type": "code",
      "metadata": {
        "id": "o_fDLvkfYgv-"
      },
      "source": [
        "# We can check if a key exists in a dictionary\n",
        "print(\"melon\" in inventory)\n",
        "print(\"peaches\" in inventory)"
      ],
      "execution_count": null,
      "outputs": []
    },
    {
      "cell_type": "code",
      "metadata": {
        "id": "7prZEBsuYgv_"
      },
      "source": [
        "# We can remove a key from a dictionary with `pop()`\n",
        "\n",
        "kilos_strawberries = inventory.pop(\"strawberries\")\n",
        "print(\"We have {} kilos of strawberries\".format(kilos_strawberries))\n",
        "print(inventory)"
      ],
      "execution_count": null,
      "outputs": []
    },
    {
      "cell_type": "markdown",
      "metadata": {
        "id": "BR8O4ye6YgwA"
      },
      "source": [
        "Each data structure can store other data structures!\n"
      ]
    },
    {
      "cell_type": "code",
      "metadata": {
        "id": "VYZlTfcfYgwB"
      },
      "source": [
        "# a list with lists inside\n",
        "flights =[\n",
        "        [\"Cape Town\", \"New York City\"],\n",
        "        [\"Cape Town\", \"Johannesburg\"],\n",
        "        [\"Cape Town\", \"Singapore\"],\n",
        "        [\"New York City\", \"Paris\"]\n",
        "        ] \n",
        "\n",
        "print(flights[1][1])"
      ],
      "execution_count": null,
      "outputs": []
    },
    {
      "cell_type": "code",
      "metadata": {
        "id": "ujzkzZ_tYgwC"
      },
      "source": [
        "# a dictionary with tuples and lists as values\n",
        "dict_flights = {\n",
        "        \"Cape Town\": (\"London\", \"Paris\", \"Berlin\"),\n",
        "        \"Lisbon\": (\"New York City\", \"Madrid\")\n",
        "        }\n",
        "print(dict_flights[\"Cape Town\"])"
      ],
      "execution_count": null,
      "outputs": []
    },
    {
      "cell_type": "code",
      "metadata": {
        "id": "V5amfoLxYgwD"
      },
      "source": [
        "# a list containing dictionaries\n",
        "dictionaries_list = [\n",
        "        {\"origin\": \"Cape Town\", \"destination\": \"New York\"},\n",
        "        {\"origin\": \"Madrid\", \"destination\": \"Paris\"}\n",
        "        ]\n",
        "\n",
        "print(dictionaries_list)"
      ],
      "execution_count": null,
      "outputs": []
    },
    {
      "cell_type": "markdown",
      "metadata": {
        "id": "YCFZJwDlYgwE"
      },
      "source": [
        "### <font color='#F9007A'> Quick knowledge check! </font>\n",
        "1. Create a dictionary that stores phone contact information (i.e. name, phone number, company)"
      ]
    },
    {
      "cell_type": "code",
      "metadata": {
        "id": "MVxOsDQaYgwE"
      },
      "source": [
        ""
      ],
      "execution_count": null,
      "outputs": []
    },
    {
      "cell_type": "markdown",
      "metadata": {
        "id": "caawcJmMYgwF"
      },
      "source": [
        "2. Write code that adds a key-value pair to store a <b>list</b> of the contact's social media handles"
      ]
    },
    {
      "cell_type": "code",
      "metadata": {
        "id": "RQvnOGxhYgwF"
      },
      "source": [
        ""
      ],
      "execution_count": null,
      "outputs": []
    },
    {
      "cell_type": "markdown",
      "metadata": {
        "id": "crMSjnb6YgwG"
      },
      "source": [
        "3. Nevermind, there's some privacy laws preventing us from storing social media handles. Write code to remove that key-value pair, make sure to print out the list of keys in the dictionary before and after to make sure you did your job!"
      ]
    },
    {
      "cell_type": "code",
      "metadata": {
        "id": "xbNdqZu5YgwH"
      },
      "source": [
        ""
      ],
      "execution_count": null,
      "outputs": []
    },
    {
      "cell_type": "markdown",
      "metadata": {
        "id": "YNmf1POHYgwI"
      },
      "source": [
        "# BOOM THE END OF DATA STRUCTURES\n",
        "\n",
        "![lists](https://i.pinimg.com/originals/41/05/82/41058209535e7e800b7c06f1aee41df8.jpg)"
      ]
    },
    {
      "cell_type": "markdown",
      "metadata": {
        "id": "MbAZKTY2YgwJ"
      },
      "source": [
        "<hr>\n",
        "\n",
        "<br>\n",
        "<br>\n",
        "<br>\n"
      ]
    },
    {
      "cell_type": "markdown",
      "metadata": {
        "id": "s9ieM5LsYgwJ"
      },
      "source": [
        "# <font color='#F9007A'> 4. CONTROL FLOW  </font>\n",
        "\n",
        "Here we talk about control flow, which is the way that we can modify the linear\n",
        "behaviour  (line by line) in python programs:\n",
        "\n",
        "1. If-else\n",
        "2. For loops\n",
        "3. While loops"
      ]
    },
    {
      "cell_type": "markdown",
      "metadata": {
        "id": "g_q3HCGeYgwJ"
      },
      "source": [
        "### <font color='#F9007A'> 1. If-else  </font>\n",
        "\n",
        "\n",
        "We use if-else to take decisions and execute different parts of the code \n",
        "depending on a condition. \n",
        "\n",
        "In python, the way we declare we are inside a loop (or a function) is by \n",
        "indenting,\n",
        "that is, if we are inside an if-else loop we put the code inside the loop 4 \n",
        "spaces to the right. We can use the tab key in Jupyter Notebooks."
      ]
    },
    {
      "cell_type": "code",
      "metadata": {
        "id": "w-nySDduYgwJ"
      },
      "source": [
        "# We can use an if loop to execute something based on one condition\n",
        "temperature = 95\n",
        "\n",
        "if temperature <= 65:\n",
        "    #we indent this line to declare that it is inside the if loop\n",
        "    print(\"Better get a sweater, its chilly out\")\n",
        "    \n",
        "print(\"this gets printed no matter what\")"
      ],
      "execution_count": null,
      "outputs": []
    },
    {
      "cell_type": "code",
      "metadata": {
        "id": "sNPgKeNDYgwL"
      },
      "source": [
        "#If we want to add many different conditions to an if loop we can use if-else\n",
        "temperature = 50\n",
        "\n",
        "\n",
        "if temperature <= 30:\n",
        "    mom_answer = \"Get a coat, its freezing outside!\"\n",
        "    \n",
        "elif temperature <= 65:           # elif stands for \"else if ...\"\n",
        "    mom_answer = \"Get a sweater, its chilly out!\"\n",
        "    \n",
        "elif temperature <= 85:\n",
        "    mom_answer = \"Don't come back late!\"\n",
        "    \n",
        "else:                             # The else block will run only if none of the previous conditions take place\n",
        "    mom_answer = \"Its too hot out!\"\n",
        "\n",
        "print(mom_answer)"
      ],
      "execution_count": null,
      "outputs": []
    },
    {
      "cell_type": "code",
      "metadata": {
        "id": "fLSOwNWwYgwL"
      },
      "source": [
        "# try changing the temperature above and checking the result\n"
      ],
      "execution_count": null,
      "outputs": []
    },
    {
      "cell_type": "code",
      "metadata": {
        "id": "Rf7H75kvYgwN"
      },
      "source": [
        "\n",
        "# We can insert loops inside other loops (nested loops)\n",
        "\n",
        "temperature = 75\n",
        "rain = False\n",
        "\n",
        "if 65 < temperature and temperature < 85:\n",
        "    # True evaluates to True, using not we get the opposite\n",
        "    if not rain:\n",
        "        print(\"Let's go picnic!\")\n"
      ],
      "execution_count": null,
      "outputs": []
    },
    {
      "cell_type": "markdown",
      "metadata": {
        "id": "Nv_Zt6gIYgwO"
      },
      "source": [
        "### <font color='#F9007A'> Quick knowledge check! </font>\n",
        "1. Write some code that lets you set your mood (i.e. happy) and recommends a song based on your mood."
      ]
    },
    {
      "cell_type": "code",
      "metadata": {
        "id": "vk8tb1tjYgwO"
      },
      "source": [
        ""
      ],
      "execution_count": null,
      "outputs": []
    },
    {
      "cell_type": "markdown",
      "metadata": {
        "id": "Z0frA7KYYgwQ"
      },
      "source": [
        "\n",
        "### <font color='#F9007A'> 2. For Loops  </font>\n",
        "\n",
        "FOR loops are used to iterate the elements of a list one by one(or anything that \n",
        "is iterable)"
      ]
    },
    {
      "cell_type": "code",
      "metadata": {
        "id": "LHdZfj0GYgwQ"
      },
      "source": [
        "numbers = [1, 2, 3, 4, 5, 6, 7, 80, 9, 10]\n",
        "\n",
        "for n in numbers:\n",
        "    if n <= 10:\n",
        "        print(f\"valid number {n}\")\n",
        "    else:\n",
        "        print(f\"ERROR! number {n} greater than 10\")\n"
      ],
      "execution_count": null,
      "outputs": []
    },
    {
      "cell_type": "code",
      "metadata": {
        "id": "YHpow4S3YgwQ"
      },
      "source": [
        "# Sometimes we want to break a for loop if a condition happens, we can break a loop with the keyword `break`\n",
        "\n",
        "numbers = [1, 2, 3, 4, 5, 6, 7, 80, 9, 10]\n",
        "\n",
        "for n in numbers:\n",
        "    if n <= 10:\n",
        "        print(f\"valid number {n}\")\n",
        "    else:\n",
        "        print(f\"ERROR! number {n} greater than 10. EXITING THE LOOP\")\n",
        "        break"
      ],
      "execution_count": null,
      "outputs": []
    },
    {
      "cell_type": "code",
      "metadata": {
        "id": "ak1LNNihYgwU"
      },
      "source": [
        "# There are times where we dont want to break a loop, we just want to continue if\n",
        "# something happens and do nothing, we can use `pass` for this\n",
        "\n",
        "numbers = [1, 2, 3, 4, 5, 6, 7, 80, 9, 10]\n",
        "\n",
        "for n in numbers:\n",
        "    if n <= 10:\n",
        "        print(f\"valid number {n}\")\n",
        "    else:\n",
        "        # pass is a placeholder, we have to put something inside an else block\n",
        "        # we use pass so nothing happens.\n",
        "        pass"
      ],
      "execution_count": null,
      "outputs": []
    },
    {
      "cell_type": "code",
      "metadata": {
        "id": "17EQ0jeTYgwX"
      },
      "source": [
        "# continue, opposite to pass, will skip this loop iteration and go to the next one\n",
        "\n",
        "numbers = [1, 2, 3, 4, 5, 6, 7, 80, 9, 10]\n",
        "\n",
        "for n in numbers:\n",
        "    if n <= 10:\n",
        "        print(f\"valid number {n}\")\n",
        "    else:\n",
        "        continue\n",
        "        print(\"this will never get printed\")"
      ],
      "execution_count": null,
      "outputs": []
    },
    {
      "cell_type": "code",
      "metadata": {
        "id": "5QydbyH_YgwY"
      },
      "source": [
        "# A simplified way to iterate elements in a list is using a list comprehension\n",
        "\n",
        "[number for number in numbers if number <= 10]"
      ],
      "execution_count": null,
      "outputs": []
    },
    {
      "cell_type": "code",
      "metadata": {
        "id": "Az6Val8uYgwZ"
      },
      "source": [
        "#Make a line that writes \"too big\" for numbers >10\n"
      ],
      "execution_count": null,
      "outputs": []
    },
    {
      "cell_type": "code",
      "metadata": {
        "id": "QTpFCsijYgwb"
      },
      "source": [
        "# We can iterate the keys in a dictionary with a for loop\n",
        "\n",
        "inventory = {\n",
        "        \"peaches\": 3,\n",
        "        \"strawberries\": 1,\n",
        "        \"apples\": 4\n",
        "        }\n",
        "\n",
        "for fruit in inventory:\n",
        "    print(fruit)"
      ],
      "execution_count": null,
      "outputs": []
    },
    {
      "cell_type": "code",
      "metadata": {
        "id": "cRKKe4hHYgwb"
      },
      "source": [
        "\n",
        "# We can iterate the keys and values together if we use `.items()`:\n",
        "for fruit, amount in inventory.items():\n",
        "    print(fruit, amount)\n",
        "    print(\"We have {} kilo/s of {}\".format(amount, fruit))"
      ],
      "execution_count": null,
      "outputs": []
    },
    {
      "cell_type": "code",
      "metadata": {
        "id": "30PY3hRvYgwd"
      },
      "source": [
        "# We can iterate strings too! (remember, strings are just lists of characters).\n",
        "name = \"IXPERIENCE\"\n",
        "\n",
        "for letter in name:\n",
        "    print(\"GIVE ME A {}!\".format(letter))"
      ],
      "execution_count": null,
      "outputs": []
    },
    {
      "cell_type": "markdown",
      "metadata": {
        "id": "iRqada5yYgwe"
      },
      "source": [
        "### <font color='#F9007A'> Quick knowledge check! </font>\n",
        "1. Using the animals dictionary below, write a for loop that loops through and prints out the scientific names of all the animals."
      ]
    },
    {
      "cell_type": "code",
      "metadata": {
        "id": "9SZXXe6ZYgwf"
      },
      "source": [
        "animals = {\n",
        "    'Elephant': {\n",
        "        'scientific_name': 'Loxodonta Africana',\n",
        "        'big_five': True\n",
        "    },\n",
        "    'Zebra':{\n",
        "        'scientific_name': 'Equus Quagga',\n",
        "        'big_five': False\n",
        "    },\n",
        "    'Black Rhinoceras':{\n",
        "        'scientific_name': 'Diceros Bicornis',\n",
        "        'big_five': True\n",
        "    }\n",
        "}\n",
        "\n",
        "# Put your code here"
      ],
      "execution_count": null,
      "outputs": []
    },
    {
      "cell_type": "markdown",
      "metadata": {
        "id": "yU50VY3pYgwg"
      },
      "source": [
        "2. Extension! Only print them out if they're big five animals."
      ]
    },
    {
      "cell_type": "code",
      "metadata": {
        "id": "p_FRI1RfYgwg"
      },
      "source": [
        ""
      ],
      "execution_count": null,
      "outputs": []
    },
    {
      "cell_type": "markdown",
      "metadata": {
        "id": "hj8V6qfeYgwh"
      },
      "source": [
        "### <font color='#F9007A'> 3. While loops  </font>\n",
        "While loops continue running until a condition takes place\n",
        "\n"
      ]
    },
    {
      "cell_type": "code",
      "metadata": {
        "id": "oVayucj1Ygwi"
      },
      "source": [
        "n_beer_bottles = 99\n",
        "while n_beer_bottles > 0:\n",
        "    print(\"\"\"\n",
        "        🎜🎝♩ {} bottles of beer on the wall, {} bottles of beer.\n",
        "        Take one down and pass it around, {} bottles of beer on the wall.🎜🎝♩\n",
        "        \"\"\".format(n_beer_bottles, n_beer_bottles, n_beer_bottles - 1))\n",
        "    n_beer_bottles -= 1"
      ],
      "execution_count": null,
      "outputs": []
    },
    {
      "cell_type": "markdown",
      "metadata": {
        "id": "WmNE5bS0Ygwj"
      },
      "source": [
        "We need to be carefull when using a while loop, we might get stuck in an \n",
        " INFINITE LOOP!\n",
        " (hit the stop button above or ii to exit the execution)"
      ]
    },
    {
      "cell_type": "code",
      "metadata": {
        "id": "lRiNHayfYgwj"
      },
      "source": [
        "n = 1\n",
        "while n > 0:\n",
        "    print(\"Stuck in the loop!\")"
      ],
      "execution_count": null,
      "outputs": []
    },
    {
      "cell_type": "markdown",
      "metadata": {
        "id": "ReNuAWyGYgwk"
      },
      "source": [
        "A common use case for a while loop is to validate user input\n",
        " we can get user input with the function `input()`"
      ]
    },
    {
      "cell_type": "code",
      "metadata": {
        "id": "tZ8Th6YFYgwk"
      },
      "source": [
        "while True:\n",
        "    input_user = input(\"Write a number from 1 to 10, type 'exit' to exit: \")\n",
        "    print(input_user)\n",
        "    try:\n",
        "        if input_user == \"exit\":\n",
        "            print(\"Bye!\")\n",
        "            break\n",
        "        elif int(input_user) <= 10:\n",
        "            square = int(input_user) ** 2\n",
        "            print(\"The square of number {} is {}\".format(input_user, square))\n",
        "        else:\n",
        "            print(\"the value {} is not valid\".format(input_user))\n",
        "    except ValueError:\n",
        "        print(\"Error: the value {} can't be converted to an integer\".format(input_user))"
      ],
      "execution_count": null,
      "outputs": []
    },
    {
      "cell_type": "markdown",
      "metadata": {
        "id": "SQmu2wSMYgwl"
      },
      "source": [
        "### <font color='#F9007A'> Quick knowledge check! </font>\n",
        "1. Let's build a little app out of your music recommendation code from the if lesson block! Write a while loop that takes user input on their emotion and outputs a song recommendation until they say exit. (Challenge - can you make it recommend a different song if you pick the same emotion twice?)"
      ]
    },
    {
      "cell_type": "code",
      "metadata": {
        "id": "AakARey7Ygwm"
      },
      "source": [
        ""
      ],
      "execution_count": null,
      "outputs": []
    },
    {
      "cell_type": "markdown",
      "metadata": {
        "id": "-VpCuLFZYgwn"
      },
      "source": [
        "# BOOM END OF CONTROL FLOW\n",
        "\n",
        "![chips](https://data.whicdn.com/images/1093046/original.png)\n",
        "\n",
        "<hr>\n",
        "<br>\n",
        "<br>\n",
        "<br>\n"
      ]
    },
    {
      "cell_type": "markdown",
      "metadata": {
        "id": "1YpzCholYgwn"
      },
      "source": [
        "# <font color='#F9007A'> 5. FUNCTIONS  </font>\n",
        "\n",
        "Functions are a way of packaging together code that does a specific job and that we might want to re-use. Let's say we wanted to write code that gets two radiuses and compares which has the bigger area."
      ]
    },
    {
      "cell_type": "code",
      "metadata": {
        "id": "7k9kw0iZYgwn"
      },
      "source": [
        "radius_1 = 10\n",
        "radius_2 = 30\n",
        "\n",
        "area_1 = 3.2 * radius_1**2\n",
        "area_2 = 3.2 * radius_2**2\n",
        "\n",
        "print('Area 1 is bigger than area 2: ', area_1 > area_2)"
      ],
      "execution_count": null,
      "outputs": []
    },
    {
      "cell_type": "markdown",
      "metadata": {
        "id": "DKE2Lx3gYgwo"
      },
      "source": [
        "Instead of writing out $3.2*r^2$ twice, we could wrap it in a function!"
      ]
    },
    {
      "cell_type": "code",
      "metadata": {
        "id": "XgTt1maJYgwp"
      },
      "source": [
        "#To create a function  we use the keyword 'def' (as in define) and add the name of our function\n",
        "#Next to the name of the function we add any input arguments (i.e. radius)\n",
        "def computeArea(radius):\n",
        "    #Return tells the function what to return (in this case the area)\n",
        "    return 3.2*radius**2"
      ],
      "execution_count": null,
      "outputs": []
    },
    {
      "cell_type": "markdown",
      "metadata": {
        "id": "ETuhulKwYgwq"
      },
      "source": [
        "For our example oru function is called computeArea and accepts one input argument, radius, and it returns the area. Let's see it in action!"
      ]
    },
    {
      "cell_type": "code",
      "metadata": {
        "id": "aIL2aZ2dYgwq"
      },
      "source": [
        "radius_1 = 10\n",
        "radius_2 = 30\n",
        "\n",
        "#Now instead of re-writing area calculation we can just use our function!\n",
        "area_1 = computeArea(radius_1)\n",
        "area_2 = computeArea(radius_2)\n",
        "\n",
        "print('Area 1 is bigger than area 2: ', area_1 > area_2)"
      ],
      "execution_count": null,
      "outputs": []
    },
    {
      "cell_type": "markdown",
      "metadata": {
        "id": "AmQH4tLmYgwr"
      },
      "source": [
        "This might not seem like big savings, but what if had a more complicated function or wanted to use it in a bunch of different areas? It also let's us make changes all in one place - for example, I totally just remembered that Pi is 3.14 not 3.2!  Now we only have too make a change in one place (go ahead, do it yourself!)"
      ]
    },
    {
      "cell_type": "code",
      "metadata": {
        "id": "KNTieAhEYgwr"
      },
      "source": [
        "#Functions don't always need input arguments or return arguments\n",
        "def sayHi():\n",
        "    print('Hi')\n",
        "\n",
        "sayHi()"
      ],
      "execution_count": null,
      "outputs": []
    },
    {
      "cell_type": "code",
      "metadata": {
        "id": "tEk4ouNLYgws"
      },
      "source": [
        "#Functions can also have multiple output arguments (just add them all in a comma separated list) too!\n",
        "def capitalizeMyName(firstName, lastName):\n",
        "    return firstName.capitalize(), lastName.capitalize()\n",
        "\n",
        "#Notice that the results are returned in a tuple!\n",
        "capitalizeMyName('jimmy', 'buffet')"
      ],
      "execution_count": null,
      "outputs": []
    },
    {
      "cell_type": "markdown",
      "metadata": {
        "id": "Z7R3gbPFYgwu"
      },
      "source": [
        "Don't worry, python will remind you if you didn't input the right number of arguments!"
      ]
    },
    {
      "cell_type": "code",
      "metadata": {
        "id": "d8QQEB7HYgwu"
      },
      "source": [
        "def myFun(foo, bar):\n",
        "    return foo + bar\n",
        "\n",
        "myFun()"
      ],
      "execution_count": null,
      "outputs": []
    },
    {
      "cell_type": "markdown",
      "metadata": {
        "id": "U9Mg1vSMYgwv"
      },
      "source": [
        "Python is really great about handling all kinds of types, so your inputs and outputs to functions can be pretty much anything! Lists, dictionaries, even other functions!"
      ]
    },
    {
      "cell_type": "code",
      "metadata": {
        "id": "FGaPm-lZYgwv"
      },
      "source": [
        "def metaFunctionBuilder(multiplier):\n",
        "    #This function builds another function that is a multiplier\n",
        "    def fun(x):\n",
        "        return multiplier*x\n",
        "    return fun\n",
        "\n",
        "#We can assign the new function to a variable that let's us access it\n",
        "newFunction = metaFunctionBuilder(5)\n",
        "\n",
        "#Look it works!\n",
        "newFunction(10)"
      ],
      "execution_count": null,
      "outputs": []
    },
    {
      "cell_type": "markdown",
      "metadata": {
        "id": "ZFKBERGXYgw7"
      },
      "source": [
        "We can also put default arguments for functions (this is great for when we have arguments that don't change most of the time)"
      ]
    },
    {
      "cell_type": "code",
      "metadata": {
        "id": "3R_71J4LYgw7"
      },
      "source": [
        "def multiply(x, multiplier = 10):\n",
        "    return x*multiplier\n",
        "\n",
        "print('With Defaults:', multiply(5)) \n",
        "print('With Multiplier = 5:', multiply(5, multiplier = 5)) #Note we can specify the parameter with the name\n",
        "print('With Multiplier = 5:', multiply(5, 5)) #Or just put it in the right order"
      ],
      "execution_count": null,
      "outputs": []
    },
    {
      "cell_type": "markdown",
      "metadata": {
        "id": "N8rh-FB_Ygw8"
      },
      "source": [
        "### <font color='#F9007A'> Quick knowledge check! </font>\n",
        "1. Write a function that calculates the area of a rectangle. "
      ]
    },
    {
      "cell_type": "code",
      "metadata": {
        "id": "UcBKTIRhYgw9"
      },
      "source": [
        ""
      ],
      "execution_count": null,
      "outputs": []
    },
    {
      "cell_type": "markdown",
      "metadata": {
        "id": "aCjjTIqiYgw-"
      },
      "source": [
        "# BOOM END OF FUNCTIONS\n",
        "![functions](https://i.pinimg.com/564x/7c/6a/ca/7c6acaabf60032c86abd6951c6cfc557.jpg)\n",
        "\n",
        "\n",
        "# THATS IT YOU SLAYED YOUR PREWORK STARTER NOTEBOOK. NOW HEAD ON OVER TO YOUR PREWORK ASSIGNMENT\n",
        "\n"
      ]
    },
    {
      "cell_type": "code",
      "metadata": {
        "id": "4s9G06OWYgw_"
      },
      "source": [
        ""
      ],
      "execution_count": null,
      "outputs": []
    }
  ]
}